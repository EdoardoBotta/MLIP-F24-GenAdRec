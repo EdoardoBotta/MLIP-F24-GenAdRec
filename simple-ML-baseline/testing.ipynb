{
 "cells": [
  {
   "cell_type": "code",
   "execution_count": 1,
   "metadata": {},
   "outputs": [],
   "source": [
    "from taobao_behavior_dataset import TaobaoUserClicksDataset"
   ]
  },
  {
   "cell_type": "code",
   "execution_count": 2,
   "metadata": {},
   "outputs": [
    {
     "name": "stderr",
     "output_type": "stream",
     "text": [
      "/home/hemit/anaconda3/envs/mlip/lib/python3.11/site-packages/sklearn/base.py:493: UserWarning: X does not have valid feature names, but OrdinalEncoder was fitted with feature names\n",
      "  warnings.warn(\n",
      "/home/hemit/anaconda3/envs/mlip/lib/python3.11/site-packages/sklearn/base.py:493: UserWarning: X does not have valid feature names, but OrdinalEncoder was fitted with feature names\n",
      "  warnings.warn(\n"
     ]
    }
   ],
   "source": [
    "dataset = TaobaoUserClicksDataset(\"../data\", training=True, filter_clicks=True, num_validation=1)"
   ]
  },
  {
   "cell_type": "code",
   "execution_count": 3,
   "metadata": {},
   "outputs": [
    {
     "data": {
      "text/plain": [
       "823607"
      ]
     },
     "execution_count": 3,
     "metadata": {},
     "output_type": "execute_result"
    }
   ],
   "source": [
    "len(dataset)"
   ]
  },
  {
   "cell_type": "code",
   "execution_count": 4,
   "metadata": {},
   "outputs": [
    {
     "name": "stdout",
     "output_type": "stream",
     "text": [
      "user num unique: 236650\n"
     ]
    }
   ],
   "source": [
    "for feat, categories in zip(dataset.user_encoder.feature_names_in_, dataset.user_encoder.categories_):\n",
    "\tprint(feat, \"num unique:\", len(categories))"
   ]
  },
  {
   "cell_type": "code",
   "execution_count": 5,
   "metadata": {},
   "outputs": [
    {
     "name": "stdout",
     "output_type": "stream",
     "text": [
      "cate_id num unique: 4804\n",
      "brand num unique: 49494\n",
      "customer num unique: 108871\n",
      "campaign_id num unique: 156378\n"
     ]
    }
   ],
   "source": [
    "for feat, categories in zip(dataset.ad_encoder.feature_names_in_, dataset.ad_encoder.categories_):\n",
    "\tprint(feat, \"num unique:\", len(categories))"
   ]
  },
  {
   "cell_type": "code",
   "execution_count": 9,
   "metadata": {},
   "outputs": [
    {
     "data": {
      "text/plain": [
       "(array([[0],\n",
       "        [0]]),\n",
       " array([[ 1961, 49493, 80035, 95269],\n",
       "        [  222, 49493, 31438, 74476]]),\n",
       " array([1494124371, 1494129933]),\n",
       " array([1, 1]),\n",
       " [array([[1., 1., 1., ..., 1., 1., 0.],\n",
       "         [1., 1., 1., ..., 1., 1., 0.]]),\n",
       "  array([[1., 1., 1., ..., 1., 1., 1.],\n",
       "         [1., 1., 1., ..., 1., 1., 1.]]),\n",
       "  array([[1., 1., 1., ..., 1., 1., 1.],\n",
       "         [1., 1., 1., ..., 1., 1., 1.]])])"
      ]
     },
     "execution_count": 9,
     "metadata": {},
     "output_type": "execute_result"
    }
   ],
   "source": [
    "datapoint = dataset[:2]\n",
    "datapoint"
   ]
  },
  {
   "cell_type": "code",
   "execution_count": null,
   "metadata": {},
   "outputs": [],
   "source": [
    "datapoint"
   ]
  }
 ],
 "metadata": {
  "kernelspec": {
   "display_name": "mlip",
   "language": "python",
   "name": "python3"
  },
  "language_info": {
   "codemirror_mode": {
    "name": "ipython",
    "version": 3
   },
   "file_extension": ".py",
   "mimetype": "text/x-python",
   "name": "python",
   "nbconvert_exporter": "python",
   "pygments_lexer": "ipython3",
   "version": "3.11.10"
  }
 },
 "nbformat": 4,
 "nbformat_minor": 2
}

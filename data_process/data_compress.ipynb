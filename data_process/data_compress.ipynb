{
 "cells": [
  {
   "cell_type": "code",
   "execution_count": null,
   "metadata": {},
   "outputs": [],
   "source": [
    "import os\n",
    "import polars as pl\n",
    "data_dir = \"../data\""
   ]
  },
  {
   "cell_type": "code",
   "execution_count": null,
   "metadata": {},
   "outputs": [],
   "source": [
    "pl.scan_csv(os.path.join(data_dir, \"behavior_log.csv\")) \\\n",
    ".filter(pl.col(\"time_stamp\") >= 0) \\\n",
    ".select(\n",
    "    pl.col(\"user\").cast(pl.UInt32),\n",
    "    pl.col(\"cate\").cast(pl.UInt16),\n",
    "    pl.col(\"brand\").cast(pl.UInt32),\n",
    "    pl.col(\"btag\").cast(pl.Enum([\"pv\", \"ad\", \"fav\", \"cart\", \"buy\"]), strict=True).alias(\"btag\").to_physical().cast(pl.UInt8),\n",
    "    pl.col(\"time_stamp\").alias(\"timestamp\").cast(pl.UInt32),\n",
    ") \\\n",
    ".collect() \\\n",
    ".write_parquet(os.path.join(data_dir, \"behavior_log.parquet\"))"
   ]
  },
  {
   "cell_type": "code",
   "execution_count": null,
   "metadata": {},
   "outputs": [],
   "source": [
    "pl.scan_csv(os.path.join(data_dir, \"raw_sample.csv\")) \\\n",
    ".filter(pl.col(\"time_stamp\") >= 0) \\\n",
    ".select(\n",
    "    pl.col(\"user\").cast(pl.UInt32),\n",
    "    pl.col(\"adgroup_id\").alias(\"adgroup\").cast(pl.UInt32),\n",
    "    pl.col(\"clk\").cast(pl.Boolean),\n",
    "    pl.col(\"time_stamp\").alias(\"timestamp\").cast(pl.UInt32),\n",
    ") \\\n",
    ".collect() \\\n",
    ".write_parquet(os.path.join(data_dir, \"raw_sample.parquet\"))"
   ]
  },
  {
   "cell_type": "code",
   "execution_count": null,
   "metadata": {},
   "outputs": [],
   "source": [
    "pl.scan_csv(os.path.join(data_dir, \"user_profile.csv\")) \\\n",
    ".select(\n",
    "    pl.col(\"userid\").alias(\"user\").cast(pl.UInt32),\n",
    "    pl.col(\"final_gender_code\").alias(\"gender\").cast(pl.UInt8),\n",
    "    pl.col(\"age_level\").alias(\"age\").cast(pl.UInt8),\n",
    "    pl.col(\"shopping_level\").alias(\"shopping\").cast(pl.UInt8),\n",
    "    pl.col(\"occupation\").cast(pl.UInt8),\n",
    ") \\\n",
    ".collect() \\\n",
    ".write_parquet(os.path.join(data_dir, \"user_profile.parquet\"))"
   ]
  },
  {
   "cell_type": "code",
   "execution_count": null,
   "metadata": {},
   "outputs": [],
   "source": [
    "pl.scan_csv(os.path.join(data_dir, \"ad_feature.csv\")) \\\n",
    ".select(\n",
    "    pl.col(\"adgroup_id\").alias(\"adgroup\").cast(pl.UInt32),\n",
    "    pl.col(\"cate_id\").alias(\"cate\").cast(pl.UInt16),\n",
    "    pl.col(\"brand\").replace(\"NULL\", None).cast(pl.UInt32),\n",
    "    pl.col(\"customer\").cast(pl.UInt32),\n",
    "    pl.col(\"campaign_id\").alias(\"campaign\").cast(pl.UInt32),\n",
    ") \\\n",
    ".collect() \\\n",
    ".write_parquet(os.path.join(data_dir, \"ad_feature.parquet\"))"
   ]
  }
 ],
 "metadata": {
  "kernelspec": {
   "display_name": "mlip",
   "language": "python",
   "name": "python3"
  },
  "language_info": {
   "codemirror_mode": {
    "name": "ipython",
    "version": 3
   },
   "file_extension": ".py",
   "mimetype": "text/x-python",
   "name": "python",
   "nbconvert_exporter": "python",
   "pygments_lexer": "ipython3",
   "version": "3.11.10"
  }
 },
 "nbformat": 4,
 "nbformat_minor": 2
}

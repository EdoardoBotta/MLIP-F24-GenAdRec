{
 "cells": [
  {
   "cell_type": "code",
   "execution_count": null,
   "metadata": {},
   "outputs": [],
   "source": [
    "import os\n",
    "import numpy as np\n",
    "import polars as pl\n",
    "from sklearn.preprocessing import OrdinalEncoder"
   ]
  },
  {
   "cell_type": "code",
   "execution_count": null,
   "metadata": {},
   "outputs": [],
   "source": [
    "data_dir = \"../data\"\n",
    "min_num_training = 4\n",
    "num_validation = 1\n",
    "include_user_ids = True\n",
    "user_features = [\"gender\", \"age\", \"shopping\", \"occupation\"]\n",
    "include_ad_ids = True\n",
    "ad_features = [\"cate\", \"brand\", \"customer\", \"campaign\"]"
   ]
  },
  {
   "cell_type": "code",
   "execution_count": 3,
   "metadata": {},
   "outputs": [],
   "source": [
    "raw_sample = (pl\n",
    "    .scan_parquet(os.path.join(data_dir, \"raw_sample.parquet\"))\n",
    "    .filter((pl.col(\"clk\") == True) | (pl.col(\"clk\") == (min_num_training + num_validation > 0)))\n",
    "    .filter(pl.len().over(\"user\") >= min_num_training + num_validation)\n",
    ")\n",
    "if user_features:\n",
    "    raw_sample = raw_sample.join(\n",
    "        other=pl.scan_parquet(os.path.join(data_dir, \"user_profile.parquet\")).select([\"user\"] + user_features),\n",
    "        on=\"user\", how=\"inner\",\n",
    "    )\n",
    "if ad_features:\n",
    "    raw_sample = raw_sample.join(\n",
    "        other=pl.scan_parquet(os.path.join(data_dir, \"ad_feature.parquet\")).select([\"adgroup\"] + ad_features),\n",
    "        on=\"adgroup\", how=\"inner\",\n",
    "    )\n",
    "raw_sample = raw_sample.collect()"
   ]
  },
  {
   "cell_type": "code",
   "execution_count": 4,
   "metadata": {},
   "outputs": [],
   "source": [
    "valid_users = raw_sample.select(\"user\").unique()"
   ]
  },
  {
   "cell_type": "code",
   "execution_count": 5,
   "metadata": {},
   "outputs": [],
   "source": [
    "user_feats = ([\"user\"] if include_user_ids else []) + user_features\n",
    "ad_feats = ([\"adgroup\"] if include_ad_ids else []) + ad_features\n",
    "pretraining_ad_feats = set([\"cate\", \"brand\"]).intersection(set(ad_feats))"
   ]
  },
  {
   "cell_type": "code",
   "execution_count": 6,
   "metadata": {},
   "outputs": [],
   "source": [
    "ad_feature = raw_sample.select(ad_feats).unique()\n",
    "if \"cate\" in ad_features or \"brand\" in ad_features:\n",
    "    # Loading takes ~30s for pretraining dataset from behavior log\n",
    "    behavior_log = (pl\n",
    "        .scan_parquet(os.path.join(data_dir, \"behavior_log.parquet\"))\n",
    "        .filter(pl.col(\"user\").is_in(valid_users))\n",
    "    )\n",
    "    if user_features:\n",
    "        behavior_log = behavior_log.join(\n",
    "            other=pl.scan_parquet(os.path.join(data_dir, \"user_profile.parquet\")).select([\"user\"] + user_features),\n",
    "            on=\"user\", how=\"inner\",\n",
    "        )\n",
    "    behavior_log = behavior_log.collect()\n",
    "    ad_feature = pl.concat([ad_feature, behavior_log.select(*pretraining_ad_feats).unique()], how=\"align\")"
   ]
  },
  {
   "cell_type": "code",
   "execution_count": 7,
   "metadata": {},
   "outputs": [
    {
     "data": {
      "text/html": [
       "<div><style>\n",
       ".dataframe > thead > tr,\n",
       ".dataframe > tbody > tr {\n",
       "  text-align: right;\n",
       "  white-space: pre-wrap;\n",
       "}\n",
       "</style>\n",
       "<small>shape: (1_060_257, 12)</small><table border=\"1\" class=\"dataframe\"><thead><tr><th>user</th><th>adgroup</th><th>clk</th><th>timestamp</th><th>gender</th><th>age</th><th>shopping</th><th>occupation</th><th>cate</th><th>brand</th><th>customer</th><th>campaign</th></tr><tr><td>u32</td><td>u32</td><td>bool</td><td>u32</td><td>u8</td><td>u8</td><td>u8</td><td>u8</td><td>u16</td><td>u32</td><td>u32</td><td>u32</td></tr></thead><tbody><tr><td>642854</td><td>102</td><td>true</td><td>1494264162</td><td>2</td><td>2</td><td>3</td><td>0</td><td>126</td><td>102457</td><td>20107</td><td>138148</td></tr><tr><td>443793</td><td>102</td><td>true</td><td>1494155701</td><td>2</td><td>4</td><td>3</td><td>0</td><td>126</td><td>102457</td><td>20107</td><td>138148</td></tr><tr><td>355080</td><td>102</td><td>true</td><td>1494492568</td><td>2</td><td>3</td><td>3</td><td>0</td><td>126</td><td>102457</td><td>20107</td><td>138148</td></tr><tr><td>843732</td><td>102</td><td>true</td><td>1494420431</td><td>2</td><td>3</td><td>3</td><td>0</td><td>126</td><td>102457</td><td>20107</td><td>138148</td></tr><tr><td>1076956</td><td>102</td><td>true</td><td>1494334701</td><td>2</td><td>3</td><td>3</td><td>0</td><td>126</td><td>102457</td><td>20107</td><td>138148</td></tr><tr><td>&hellip;</td><td>&hellip;</td><td>&hellip;</td><td>&hellip;</td><td>&hellip;</td><td>&hellip;</td><td>&hellip;</td><td>&hellip;</td><td>&hellip;</td><td>&hellip;</td><td>&hellip;</td><td>&hellip;</td></tr><tr><td>102161</td><td>846745</td><td>true</td><td>1494471716</td><td>2</td><td>3</td><td>3</td><td>0</td><td>6939</td><td>416477</td><td>52471</td><td>397861</td></tr><tr><td>1098194</td><td>846745</td><td>true</td><td>1494311997</td><td>2</td><td>3</td><td>3</td><td>0</td><td>6939</td><td>416477</td><td>52471</td><td>397861</td></tr><tr><td>1089310</td><td>846781</td><td>true</td><td>1494071559</td><td>2</td><td>5</td><td>3</td><td>0</td><td>6361</td><td>459870</td><td>47122</td><td>392860</td></tr><tr><td>417228</td><td>846781</td><td>true</td><td>1494528900</td><td>2</td><td>3</td><td>3</td><td>0</td><td>6361</td><td>459870</td><td>47122</td><td>392860</td></tr><tr><td>323885</td><td>846797</td><td>true</td><td>1494091079</td><td>1</td><td>4</td><td>3</td><td>0</td><td>5290</td><td>9728</td><td>26610</td><td>177546</td></tr></tbody></table></div>"
      ],
      "text/plain": [
       "shape: (1_060_257, 12)\n",
       "┌─────────┬─────────┬──────┬────────────┬───┬──────┬────────┬──────────┬──────────┐\n",
       "│ user    ┆ adgroup ┆ clk  ┆ timestamp  ┆ … ┆ cate ┆ brand  ┆ customer ┆ campaign │\n",
       "│ ---     ┆ ---     ┆ ---  ┆ ---        ┆   ┆ ---  ┆ ---    ┆ ---      ┆ ---      │\n",
       "│ u32     ┆ u32     ┆ bool ┆ u32        ┆   ┆ u16  ┆ u32    ┆ u32      ┆ u32      │\n",
       "╞═════════╪═════════╪══════╪════════════╪═══╪══════╪════════╪══════════╪══════════╡\n",
       "│ 642854  ┆ 102     ┆ true ┆ 1494264162 ┆ … ┆ 126  ┆ 102457 ┆ 20107    ┆ 138148   │\n",
       "│ 443793  ┆ 102     ┆ true ┆ 1494155701 ┆ … ┆ 126  ┆ 102457 ┆ 20107    ┆ 138148   │\n",
       "│ 355080  ┆ 102     ┆ true ┆ 1494492568 ┆ … ┆ 126  ┆ 102457 ┆ 20107    ┆ 138148   │\n",
       "│ 843732  ┆ 102     ┆ true ┆ 1494420431 ┆ … ┆ 126  ┆ 102457 ┆ 20107    ┆ 138148   │\n",
       "│ 1076956 ┆ 102     ┆ true ┆ 1494334701 ┆ … ┆ 126  ┆ 102457 ┆ 20107    ┆ 138148   │\n",
       "│ …       ┆ …       ┆ …    ┆ …          ┆ … ┆ …    ┆ …      ┆ …        ┆ …        │\n",
       "│ 102161  ┆ 846745  ┆ true ┆ 1494471716 ┆ … ┆ 6939 ┆ 416477 ┆ 52471    ┆ 397861   │\n",
       "│ 1098194 ┆ 846745  ┆ true ┆ 1494311997 ┆ … ┆ 6939 ┆ 416477 ┆ 52471    ┆ 397861   │\n",
       "│ 1089310 ┆ 846781  ┆ true ┆ 1494071559 ┆ … ┆ 6361 ┆ 459870 ┆ 47122    ┆ 392860   │\n",
       "│ 417228  ┆ 846781  ┆ true ┆ 1494528900 ┆ … ┆ 6361 ┆ 459870 ┆ 47122    ┆ 392860   │\n",
       "│ 323885  ┆ 846797  ┆ true ┆ 1494091079 ┆ … ┆ 5290 ┆ 9728   ┆ 26610    ┆ 177546   │\n",
       "└─────────┴─────────┴──────┴────────────┴───┴──────┴────────┴──────────┴──────────┘"
      ]
     },
     "execution_count": 7,
     "metadata": {},
     "output_type": "execute_result"
    }
   ],
   "source": [
    "raw_sample"
   ]
  },
  {
   "cell_type": "code",
   "execution_count": 8,
   "metadata": {},
   "outputs": [],
   "source": [
    "training_data = (\n",
    "    raw_sample\n",
    "    .filter(pl.len().over(\"user\") > num_validation)\n",
    "    .sort(\"user\", \"timestamp\", nulls_last=True)\n",
    "    .group_by(\"user\", maintain_order=True)\n",
    "    .agg(pl.all().head(pl.len() - num_validation))\n",
    "    .explode(pl.all().exclude(\"user\"))\n",
    "    .select(*user_feats, *ad_feats, pl.lit(1).alias(\"btag\").cast(pl.UInt8), \"timestamp\")\n",
    ")\n",
    "validation_data = (\n",
    "    raw_sample\n",
    "    .sort(\"user\", \"timestamp\", nulls_last=True)\n",
    "    .group_by(\"user\", maintain_order=True)\n",
    "    .agg(pl.all().tail(num_validation))\n",
    "    .explode(pl.all().exclude(\"user\"))\n",
    "    .select(*user_feats, *ad_feats, pl.lit(1).alias(\"btag\").cast(pl.UInt8), \"timestamp\")\n",
    ")"
   ]
  },
  {
   "cell_type": "code",
   "execution_count": 9,
   "metadata": {},
   "outputs": [
    {
     "data": {
      "text/html": [
       "<div><style>\n",
       ".dataframe > thead > tr,\n",
       ".dataframe > tbody > tr {\n",
       "  text-align: right;\n",
       "  white-space: pre-wrap;\n",
       "}\n",
       "</style>\n",
       "<small>shape: (236_650, 12)</small><table border=\"1\" class=\"dataframe\"><thead><tr><th>user</th><th>gender</th><th>age</th><th>shopping</th><th>occupation</th><th>adgroup</th><th>cate</th><th>brand</th><th>customer</th><th>campaign</th><th>btag</th><th>timestamp</th></tr><tr><td>u32</td><td>u8</td><td>u8</td><td>u8</td><td>u8</td><td>u32</td><td>u16</td><td>u32</td><td>u32</td><td>u32</td><td>u8</td><td>u32</td></tr></thead><tbody><tr><td>4</td><td>1</td><td>5</td><td>2</td><td>0</td><td>207109</td><td>562</td><td>200377</td><td>136711</td><td>244872</td><td>1</td><td>1494653875</td></tr><tr><td>7</td><td>1</td><td>2</td><td>3</td><td>0</td><td>30074</td><td>7266</td><td>296265</td><td>148537</td><td>71832</td><td>1</td><td>1494674441</td></tr><tr><td>14</td><td>2</td><td>2</td><td>3</td><td>1</td><td>711096</td><td>6423</td><td>452022</td><td>34668</td><td>157119</td><td>1</td><td>1494512118</td></tr><tr><td>24</td><td>2</td><td>1</td><td>2</td><td>0</td><td>656548</td><td>6261</td><td>null</td><td>60230</td><td>3487</td><td>1</td><td>1494495452</td></tr><tr><td>26</td><td>2</td><td>4</td><td>2</td><td>0</td><td>645506</td><td>6261</td><td>269352</td><td>54588</td><td>404023</td><td>1</td><td>1494426628</td></tr><tr><td>&hellip;</td><td>&hellip;</td><td>&hellip;</td><td>&hellip;</td><td>&hellip;</td><td>&hellip;</td><td>&hellip;</td><td>&hellip;</td><td>&hellip;</td><td>&hellip;</td><td>&hellip;</td><td>&hellip;</td></tr><tr><td>1141718</td><td>1</td><td>5</td><td>3</td><td>0</td><td>623707</td><td>6261</td><td>null</td><td>1734</td><td>82320</td><td>1</td><td>1494392748</td></tr><tr><td>1141723</td><td>2</td><td>1</td><td>3</td><td>0</td><td>701127</td><td>6300</td><td>82527</td><td>28529</td><td>266843</td><td>1</td><td>1494251900</td></tr><tr><td>1141725</td><td>2</td><td>2</td><td>3</td><td>0</td><td>183541</td><td>6255</td><td>231313</td><td>14833</td><td>191535</td><td>1</td><td>1494496336</td></tr><tr><td>1141726</td><td>2</td><td>5</td><td>3</td><td>0</td><td>336202</td><td>6342</td><td>90847</td><td>199245</td><td>315038</td><td>1</td><td>1494473055</td></tr><tr><td>1141729</td><td>2</td><td>1</td><td>3</td><td>0</td><td>636325</td><td>1665</td><td>null</td><td>23680</td><td>147516</td><td>1</td><td>1494238988</td></tr></tbody></table></div>"
      ],
      "text/plain": [
       "shape: (236_650, 12)\n",
       "┌─────────┬────────┬─────┬──────────┬───┬──────────┬──────────┬──────┬────────────┐\n",
       "│ user    ┆ gender ┆ age ┆ shopping ┆ … ┆ customer ┆ campaign ┆ btag ┆ timestamp  │\n",
       "│ ---     ┆ ---    ┆ --- ┆ ---      ┆   ┆ ---      ┆ ---      ┆ ---  ┆ ---        │\n",
       "│ u32     ┆ u8     ┆ u8  ┆ u8       ┆   ┆ u32      ┆ u32      ┆ u8   ┆ u32        │\n",
       "╞═════════╪════════╪═════╪══════════╪═══╪══════════╪══════════╪══════╪════════════╡\n",
       "│ 4       ┆ 1      ┆ 5   ┆ 2        ┆ … ┆ 136711   ┆ 244872   ┆ 1    ┆ 1494653875 │\n",
       "│ 7       ┆ 1      ┆ 2   ┆ 3        ┆ … ┆ 148537   ┆ 71832    ┆ 1    ┆ 1494674441 │\n",
       "│ 14      ┆ 2      ┆ 2   ┆ 3        ┆ … ┆ 34668    ┆ 157119   ┆ 1    ┆ 1494512118 │\n",
       "│ 24      ┆ 2      ┆ 1   ┆ 2        ┆ … ┆ 60230    ┆ 3487     ┆ 1    ┆ 1494495452 │\n",
       "│ 26      ┆ 2      ┆ 4   ┆ 2        ┆ … ┆ 54588    ┆ 404023   ┆ 1    ┆ 1494426628 │\n",
       "│ …       ┆ …      ┆ …   ┆ …        ┆ … ┆ …        ┆ …        ┆ …    ┆ …          │\n",
       "│ 1141718 ┆ 1      ┆ 5   ┆ 3        ┆ … ┆ 1734     ┆ 82320    ┆ 1    ┆ 1494392748 │\n",
       "│ 1141723 ┆ 2      ┆ 1   ┆ 3        ┆ … ┆ 28529    ┆ 266843   ┆ 1    ┆ 1494251900 │\n",
       "│ 1141725 ┆ 2      ┆ 2   ┆ 3        ┆ … ┆ 14833    ┆ 191535   ┆ 1    ┆ 1494496336 │\n",
       "│ 1141726 ┆ 2      ┆ 5   ┆ 3        ┆ … ┆ 199245   ┆ 315038   ┆ 1    ┆ 1494473055 │\n",
       "│ 1141729 ┆ 2      ┆ 1   ┆ 3        ┆ … ┆ 23680    ┆ 147516   ┆ 1    ┆ 1494238988 │\n",
       "└─────────┴────────┴─────┴──────────┴───┴──────────┴──────────┴──────┴────────────┘"
      ]
     },
     "execution_count": 9,
     "metadata": {},
     "output_type": "execute_result"
    }
   ],
   "source": [
    "validation_data"
   ]
  },
  {
   "cell_type": "code",
   "execution_count": 10,
   "metadata": {},
   "outputs": [
    {
     "data": {
      "text/html": [
       "<div><style>\n",
       ".dataframe > thead > tr,\n",
       ".dataframe > tbody > tr {\n",
       "  text-align: right;\n",
       "  white-space: pre-wrap;\n",
       "}\n",
       "</style>\n",
       "<small>shape: (823_607, 12)</small><table border=\"1\" class=\"dataframe\"><thead><tr><th>user</th><th>gender</th><th>age</th><th>shopping</th><th>occupation</th><th>adgroup</th><th>cate</th><th>brand</th><th>customer</th><th>campaign</th><th>btag</th><th>timestamp</th></tr><tr><td>u32</td><td>u8</td><td>u8</td><td>u8</td><td>u8</td><td>u32</td><td>u16</td><td>u32</td><td>u32</td><td>u32</td><td>u8</td><td>u32</td></tr></thead><tbody><tr><td>4</td><td>1</td><td>5</td><td>2</td><td>0</td><td>144004</td><td>6300</td><td>null</td><td>187000</td><td>252559</td><td>1</td><td>1494124371</td></tr><tr><td>4</td><td>1</td><td>5</td><td>2</td><td>0</td><td>388902</td><td>562</td><td>null</td><td>116625</td><td>159335</td><td>1</td><td>1494129933</td></tr><tr><td>4</td><td>1</td><td>5</td><td>2</td><td>0</td><td>661336</td><td>562</td><td>null</td><td>75325</td><td>195718</td><td>1</td><td>1494129933</td></tr><tr><td>4</td><td>1</td><td>5</td><td>2</td><td>0</td><td>438808</td><td>562</td><td>null</td><td>116649</td><td>51610</td><td>1</td><td>1494136895</td></tr><tr><td>7</td><td>1</td><td>2</td><td>3</td><td>0</td><td>30074</td><td>7266</td><td>296265</td><td>148537</td><td>71832</td><td>1</td><td>1494598158</td></tr><tr><td>&hellip;</td><td>&hellip;</td><td>&hellip;</td><td>&hellip;</td><td>&hellip;</td><td>&hellip;</td><td>&hellip;</td><td>&hellip;</td><td>&hellip;</td><td>&hellip;</td><td>&hellip;</td><td>&hellip;</td></tr><tr><td>1141725</td><td>2</td><td>2</td><td>3</td><td>0</td><td>667859</td><td>7867</td><td>73436</td><td>60061</td><td>250629</td><td>1</td><td>1494138804</td></tr><tr><td>1141725</td><td>2</td><td>2</td><td>3</td><td>0</td><td>610751</td><td>4283</td><td>243097</td><td>12747</td><td>263497</td><td>1</td><td>1494472604</td></tr><tr><td>1141726</td><td>2</td><td>5</td><td>3</td><td>0</td><td>119854</td><td>4756</td><td>378130</td><td>106614</td><td>88138</td><td>1</td><td>1494216892</td></tr><tr><td>1141726</td><td>2</td><td>5</td><td>3</td><td>0</td><td>627130</td><td>6261</td><td>null</td><td>164289</td><td>96840</td><td>1</td><td>1494406812</td></tr><tr><td>1141729</td><td>2</td><td>1</td><td>3</td><td>0</td><td>631594</td><td>1665</td><td>66101</td><td>18499</td><td>112335</td><td>1</td><td>1494170534</td></tr></tbody></table></div>"
      ],
      "text/plain": [
       "shape: (823_607, 12)\n",
       "┌─────────┬────────┬─────┬──────────┬───┬──────────┬──────────┬──────┬────────────┐\n",
       "│ user    ┆ gender ┆ age ┆ shopping ┆ … ┆ customer ┆ campaign ┆ btag ┆ timestamp  │\n",
       "│ ---     ┆ ---    ┆ --- ┆ ---      ┆   ┆ ---      ┆ ---      ┆ ---  ┆ ---        │\n",
       "│ u32     ┆ u8     ┆ u8  ┆ u8       ┆   ┆ u32      ┆ u32      ┆ u8   ┆ u32        │\n",
       "╞═════════╪════════╪═════╪══════════╪═══╪══════════╪══════════╪══════╪════════════╡\n",
       "│ 4       ┆ 1      ┆ 5   ┆ 2        ┆ … ┆ 187000   ┆ 252559   ┆ 1    ┆ 1494124371 │\n",
       "│ 4       ┆ 1      ┆ 5   ┆ 2        ┆ … ┆ 116625   ┆ 159335   ┆ 1    ┆ 1494129933 │\n",
       "│ 4       ┆ 1      ┆ 5   ┆ 2        ┆ … ┆ 75325    ┆ 195718   ┆ 1    ┆ 1494129933 │\n",
       "│ 4       ┆ 1      ┆ 5   ┆ 2        ┆ … ┆ 116649   ┆ 51610    ┆ 1    ┆ 1494136895 │\n",
       "│ 7       ┆ 1      ┆ 2   ┆ 3        ┆ … ┆ 148537   ┆ 71832    ┆ 1    ┆ 1494598158 │\n",
       "│ …       ┆ …      ┆ …   ┆ …        ┆ … ┆ …        ┆ …        ┆ …    ┆ …          │\n",
       "│ 1141725 ┆ 2      ┆ 2   ┆ 3        ┆ … ┆ 60061    ┆ 250629   ┆ 1    ┆ 1494138804 │\n",
       "│ 1141725 ┆ 2      ┆ 2   ┆ 3        ┆ … ┆ 12747    ┆ 263497   ┆ 1    ┆ 1494472604 │\n",
       "│ 1141726 ┆ 2      ┆ 5   ┆ 3        ┆ … ┆ 106614   ┆ 88138    ┆ 1    ┆ 1494216892 │\n",
       "│ 1141726 ┆ 2      ┆ 5   ┆ 3        ┆ … ┆ 164289   ┆ 96840    ┆ 1    ┆ 1494406812 │\n",
       "│ 1141729 ┆ 2      ┆ 1   ┆ 3        ┆ … ┆ 18499    ┆ 112335   ┆ 1    ┆ 1494170534 │\n",
       "└─────────┴────────┴─────┴──────────┴───┴──────────┴──────────┴──────┴────────────┘"
      ]
     },
     "execution_count": 10,
     "metadata": {},
     "output_type": "execute_result"
    }
   ],
   "source": [
    "training_data"
   ]
  },
  {
   "cell_type": "code",
   "execution_count": 11,
   "metadata": {},
   "outputs": [
    {
     "data": {
      "text/html": [
       "<div><style>\n",
       ".dataframe > thead > tr,\n",
       ".dataframe > tbody > tr {\n",
       "  text-align: right;\n",
       "  white-space: pre-wrap;\n",
       "}\n",
       "</style>\n",
       "<small>shape: (255_400_045, 9)</small><table border=\"1\" class=\"dataframe\"><thead><tr><th>user</th><th>cate</th><th>brand</th><th>btag</th><th>timestamp</th><th>gender</th><th>age</th><th>shopping</th><th>occupation</th></tr><tr><td>u32</td><td>u16</td><td>u32</td><td>u8</td><td>u32</td><td>u8</td><td>u8</td><td>u8</td><td>u8</td></tr></thead><tbody><tr><td>558157</td><td>6250</td><td>91286</td><td>0</td><td>1493741625</td><td>2</td><td>5</td><td>3</td><td>0</td></tr><tr><td>558157</td><td>6250</td><td>91286</td><td>0</td><td>1493741626</td><td>2</td><td>5</td><td>3</td><td>0</td></tr><tr><td>558157</td><td>6250</td><td>91286</td><td>0</td><td>1493741627</td><td>2</td><td>5</td><td>3</td><td>0</td></tr><tr><td>332634</td><td>1101</td><td>365477</td><td>0</td><td>1493809895</td><td>1</td><td>5</td><td>3</td><td>0</td></tr><tr><td>619381</td><td>385</td><td>428950</td><td>0</td><td>1493774638</td><td>2</td><td>4</td><td>3</td><td>0</td></tr><tr><td>&hellip;</td><td>&hellip;</td><td>&hellip;</td><td>&hellip;</td><td>&hellip;</td><td>&hellip;</td><td>&hellip;</td><td>&hellip;</td><td>&hellip;</td></tr><tr><td>1035186</td><td>1101</td><td>20348</td><td>0</td><td>1493549440</td><td>2</td><td>3</td><td>3</td><td>0</td></tr><tr><td>1035186</td><td>1101</td><td>20348</td><td>0</td><td>1493549405</td><td>2</td><td>3</td><td>3</td><td>0</td></tr><tr><td>1035186</td><td>1101</td><td>20348</td><td>0</td><td>1493549595</td><td>2</td><td>3</td><td>3</td><td>0</td></tr><tr><td>1035186</td><td>1101</td><td>20348</td><td>0</td><td>1493549516</td><td>2</td><td>3</td><td>3</td><td>0</td></tr><tr><td>753243</td><td>4520</td><td>11641</td><td>0</td><td>1493514334</td><td>2</td><td>2</td><td>3</td><td>1</td></tr></tbody></table></div>"
      ],
      "text/plain": [
       "shape: (255_400_045, 9)\n",
       "┌─────────┬──────┬────────┬──────┬───┬────────┬─────┬──────────┬────────────┐\n",
       "│ user    ┆ cate ┆ brand  ┆ btag ┆ … ┆ gender ┆ age ┆ shopping ┆ occupation │\n",
       "│ ---     ┆ ---  ┆ ---    ┆ ---  ┆   ┆ ---    ┆ --- ┆ ---      ┆ ---        │\n",
       "│ u32     ┆ u16  ┆ u32    ┆ u8   ┆   ┆ u8     ┆ u8  ┆ u8       ┆ u8         │\n",
       "╞═════════╪══════╪════════╪══════╪═══╪════════╪═════╪══════════╪════════════╡\n",
       "│ 558157  ┆ 6250 ┆ 91286  ┆ 0    ┆ … ┆ 2      ┆ 5   ┆ 3        ┆ 0          │\n",
       "│ 558157  ┆ 6250 ┆ 91286  ┆ 0    ┆ … ┆ 2      ┆ 5   ┆ 3        ┆ 0          │\n",
       "│ 558157  ┆ 6250 ┆ 91286  ┆ 0    ┆ … ┆ 2      ┆ 5   ┆ 3        ┆ 0          │\n",
       "│ 332634  ┆ 1101 ┆ 365477 ┆ 0    ┆ … ┆ 1      ┆ 5   ┆ 3        ┆ 0          │\n",
       "│ 619381  ┆ 385  ┆ 428950 ┆ 0    ┆ … ┆ 2      ┆ 4   ┆ 3        ┆ 0          │\n",
       "│ …       ┆ …    ┆ …      ┆ …    ┆ … ┆ …      ┆ …   ┆ …        ┆ …          │\n",
       "│ 1035186 ┆ 1101 ┆ 20348  ┆ 0    ┆ … ┆ 2      ┆ 3   ┆ 3        ┆ 0          │\n",
       "│ 1035186 ┆ 1101 ┆ 20348  ┆ 0    ┆ … ┆ 2      ┆ 3   ┆ 3        ┆ 0          │\n",
       "│ 1035186 ┆ 1101 ┆ 20348  ┆ 0    ┆ … ┆ 2      ┆ 3   ┆ 3        ┆ 0          │\n",
       "│ 1035186 ┆ 1101 ┆ 20348  ┆ 0    ┆ … ┆ 2      ┆ 3   ┆ 3        ┆ 0          │\n",
       "│ 753243  ┆ 4520 ┆ 11641  ┆ 0    ┆ … ┆ 2      ┆ 2   ┆ 3        ┆ 1          │\n",
       "└─────────┴──────┴────────┴──────┴───┴────────┴─────┴──────────┴────────────┘"
      ]
     },
     "execution_count": 11,
     "metadata": {},
     "output_type": "execute_result"
    }
   ],
   "source": [
    "behavior_log"
   ]
  },
  {
   "cell_type": "code",
   "execution_count": 16,
   "metadata": {},
   "outputs": [
    {
     "data": {
      "text/html": [
       "<div><style>\n",
       ".dataframe > thead > tr,\n",
       ".dataframe > tbody > tr {\n",
       "  text-align: right;\n",
       "  white-space: pre-wrap;\n",
       "}\n",
       "</style>\n",
       "<small>shape: (823_607, 12)</small><table border=\"1\" class=\"dataframe\"><thead><tr><th>user</th><th>gender</th><th>age</th><th>shopping</th><th>occupation</th><th>adgroup</th><th>cate</th><th>brand</th><th>customer</th><th>campaign</th><th>btag</th><th>timestamp</th></tr><tr><td>u32</td><td>u8</td><td>u8</td><td>u8</td><td>u8</td><td>u32</td><td>u16</td><td>u32</td><td>u32</td><td>u32</td><td>u8</td><td>u32</td></tr></thead><tbody><tr><td>4</td><td>1</td><td>5</td><td>2</td><td>0</td><td>144004</td><td>6300</td><td>null</td><td>187000</td><td>252559</td><td>1</td><td>1494124371</td></tr><tr><td>4</td><td>1</td><td>5</td><td>2</td><td>0</td><td>388902</td><td>562</td><td>null</td><td>116625</td><td>159335</td><td>1</td><td>1494129933</td></tr><tr><td>4</td><td>1</td><td>5</td><td>2</td><td>0</td><td>661336</td><td>562</td><td>null</td><td>75325</td><td>195718</td><td>1</td><td>1494129933</td></tr><tr><td>4</td><td>1</td><td>5</td><td>2</td><td>0</td><td>438808</td><td>562</td><td>null</td><td>116649</td><td>51610</td><td>1</td><td>1494136895</td></tr><tr><td>7</td><td>1</td><td>2</td><td>3</td><td>0</td><td>30074</td><td>7266</td><td>296265</td><td>148537</td><td>71832</td><td>1</td><td>1494598158</td></tr><tr><td>&hellip;</td><td>&hellip;</td><td>&hellip;</td><td>&hellip;</td><td>&hellip;</td><td>&hellip;</td><td>&hellip;</td><td>&hellip;</td><td>&hellip;</td><td>&hellip;</td><td>&hellip;</td><td>&hellip;</td></tr><tr><td>1141725</td><td>2</td><td>2</td><td>3</td><td>0</td><td>667859</td><td>7867</td><td>73436</td><td>60061</td><td>250629</td><td>1</td><td>1494138804</td></tr><tr><td>1141725</td><td>2</td><td>2</td><td>3</td><td>0</td><td>610751</td><td>4283</td><td>243097</td><td>12747</td><td>263497</td><td>1</td><td>1494472604</td></tr><tr><td>1141726</td><td>2</td><td>5</td><td>3</td><td>0</td><td>119854</td><td>4756</td><td>378130</td><td>106614</td><td>88138</td><td>1</td><td>1494216892</td></tr><tr><td>1141726</td><td>2</td><td>5</td><td>3</td><td>0</td><td>627130</td><td>6261</td><td>null</td><td>164289</td><td>96840</td><td>1</td><td>1494406812</td></tr><tr><td>1141729</td><td>2</td><td>1</td><td>3</td><td>0</td><td>631594</td><td>1665</td><td>66101</td><td>18499</td><td>112335</td><td>1</td><td>1494170534</td></tr></tbody></table></div>"
      ],
      "text/plain": [
       "shape: (823_607, 12)\n",
       "┌─────────┬────────┬─────┬──────────┬───┬──────────┬──────────┬──────┬────────────┐\n",
       "│ user    ┆ gender ┆ age ┆ shopping ┆ … ┆ customer ┆ campaign ┆ btag ┆ timestamp  │\n",
       "│ ---     ┆ ---    ┆ --- ┆ ---      ┆   ┆ ---      ┆ ---      ┆ ---  ┆ ---        │\n",
       "│ u32     ┆ u8     ┆ u8  ┆ u8       ┆   ┆ u32      ┆ u32      ┆ u8   ┆ u32        │\n",
       "╞═════════╪════════╪═════╪══════════╪═══╪══════════╪══════════╪══════╪════════════╡\n",
       "│ 4       ┆ 1      ┆ 5   ┆ 2        ┆ … ┆ 187000   ┆ 252559   ┆ 1    ┆ 1494124371 │\n",
       "│ 4       ┆ 1      ┆ 5   ┆ 2        ┆ … ┆ 116625   ┆ 159335   ┆ 1    ┆ 1494129933 │\n",
       "│ 4       ┆ 1      ┆ 5   ┆ 2        ┆ … ┆ 75325    ┆ 195718   ┆ 1    ┆ 1494129933 │\n",
       "│ 4       ┆ 1      ┆ 5   ┆ 2        ┆ … ┆ 116649   ┆ 51610    ┆ 1    ┆ 1494136895 │\n",
       "│ 7       ┆ 1      ┆ 2   ┆ 3        ┆ … ┆ 148537   ┆ 71832    ┆ 1    ┆ 1494598158 │\n",
       "│ …       ┆ …      ┆ …   ┆ …        ┆ … ┆ …        ┆ …        ┆ …    ┆ …          │\n",
       "│ 1141725 ┆ 2      ┆ 2   ┆ 3        ┆ … ┆ 60061    ┆ 250629   ┆ 1    ┆ 1494138804 │\n",
       "│ 1141725 ┆ 2      ┆ 2   ┆ 3        ┆ … ┆ 12747    ┆ 263497   ┆ 1    ┆ 1494472604 │\n",
       "│ 1141726 ┆ 2      ┆ 5   ┆ 3        ┆ … ┆ 106614   ┆ 88138    ┆ 1    ┆ 1494216892 │\n",
       "│ 1141726 ┆ 2      ┆ 5   ┆ 3        ┆ … ┆ 164289   ┆ 96840    ┆ 1    ┆ 1494406812 │\n",
       "│ 1141729 ┆ 2      ┆ 1   ┆ 3        ┆ … ┆ 18499    ┆ 112335   ┆ 1    ┆ 1494170534 │\n",
       "└─────────┴────────┴─────┴──────────┴───┴──────────┴──────────┴──────┴────────────┘"
      ]
     },
     "execution_count": 16,
     "metadata": {},
     "output_type": "execute_result"
    }
   ],
   "source": [
    "training_data.drop_nulls(\"adgroup\")"
   ]
  },
  {
   "cell_type": "code",
   "execution_count": 12,
   "metadata": {},
   "outputs": [],
   "source": [
    "training_data = pl.concat([\n",
    "    training_data,(\n",
    "    behavior_log\n",
    "    .join(\n",
    "        validation_data.select(\"user\", pl.col(\"timestamp\").alias(\"first_validation_ad_click_time\"))\n",
    "        .sort(\"user\", \"first_validation_ad_click_time\", nulls_last=True)\n",
    "        .group_by(\"user\", maintain_order=True).head(1),\n",
    "        on=\"user\", how=\"inner\"\n",
    "    ))\n",
    "    .filter(pl.col(\"timestamp\") <= pl.col(\"first_validation_ad_click_time\"))\n",
    "    .select(*user_feats, *pretraining_ad_feats, \"btag\", \"timestamp\")\n",
    "], how=\"diagonal\")"
   ]
  },
  {
   "cell_type": "code",
   "execution_count": 13,
   "metadata": {},
   "outputs": [
    {
     "data": {
      "text/html": [
       "<div><style>\n",
       ".dataframe > thead > tr,\n",
       ".dataframe > tbody > tr {\n",
       "  text-align: right;\n",
       "  white-space: pre-wrap;\n",
       "}\n",
       "</style>\n",
       "<small>shape: (228_271_075, 12)</small><table border=\"1\" class=\"dataframe\"><thead><tr><th>user</th><th>gender</th><th>age</th><th>shopping</th><th>occupation</th><th>adgroup</th><th>cate</th><th>brand</th><th>customer</th><th>campaign</th><th>btag</th><th>timestamp</th></tr><tr><td>u32</td><td>u8</td><td>u8</td><td>u8</td><td>u8</td><td>u32</td><td>u16</td><td>u32</td><td>u32</td><td>u32</td><td>u8</td><td>u32</td></tr></thead><tbody><tr><td>4</td><td>1</td><td>5</td><td>2</td><td>0</td><td>144004</td><td>6300</td><td>null</td><td>187000</td><td>252559</td><td>1</td><td>1494124371</td></tr><tr><td>4</td><td>1</td><td>5</td><td>2</td><td>0</td><td>388902</td><td>562</td><td>null</td><td>116625</td><td>159335</td><td>1</td><td>1494129933</td></tr><tr><td>4</td><td>1</td><td>5</td><td>2</td><td>0</td><td>661336</td><td>562</td><td>null</td><td>75325</td><td>195718</td><td>1</td><td>1494129933</td></tr><tr><td>4</td><td>1</td><td>5</td><td>2</td><td>0</td><td>438808</td><td>562</td><td>null</td><td>116649</td><td>51610</td><td>1</td><td>1494136895</td></tr><tr><td>7</td><td>1</td><td>2</td><td>3</td><td>0</td><td>30074</td><td>7266</td><td>296265</td><td>148537</td><td>71832</td><td>1</td><td>1494598158</td></tr><tr><td>&hellip;</td><td>&hellip;</td><td>&hellip;</td><td>&hellip;</td><td>&hellip;</td><td>&hellip;</td><td>&hellip;</td><td>&hellip;</td><td>&hellip;</td><td>&hellip;</td><td>&hellip;</td><td>&hellip;</td></tr><tr><td>1035186</td><td>2</td><td>3</td><td>3</td><td>0</td><td>null</td><td>1101</td><td>20348</td><td>null</td><td>null</td><td>0</td><td>1493549440</td></tr><tr><td>1035186</td><td>2</td><td>3</td><td>3</td><td>0</td><td>null</td><td>1101</td><td>20348</td><td>null</td><td>null</td><td>0</td><td>1493549405</td></tr><tr><td>1035186</td><td>2</td><td>3</td><td>3</td><td>0</td><td>null</td><td>1101</td><td>20348</td><td>null</td><td>null</td><td>0</td><td>1493549595</td></tr><tr><td>1035186</td><td>2</td><td>3</td><td>3</td><td>0</td><td>null</td><td>1101</td><td>20348</td><td>null</td><td>null</td><td>0</td><td>1493549516</td></tr><tr><td>753243</td><td>2</td><td>2</td><td>3</td><td>1</td><td>null</td><td>4520</td><td>11641</td><td>null</td><td>null</td><td>0</td><td>1493514334</td></tr></tbody></table></div>"
      ],
      "text/plain": [
       "shape: (228_271_075, 12)\n",
       "┌─────────┬────────┬─────┬──────────┬───┬──────────┬──────────┬──────┬────────────┐\n",
       "│ user    ┆ gender ┆ age ┆ shopping ┆ … ┆ customer ┆ campaign ┆ btag ┆ timestamp  │\n",
       "│ ---     ┆ ---    ┆ --- ┆ ---      ┆   ┆ ---      ┆ ---      ┆ ---  ┆ ---        │\n",
       "│ u32     ┆ u8     ┆ u8  ┆ u8       ┆   ┆ u32      ┆ u32      ┆ u8   ┆ u32        │\n",
       "╞═════════╪════════╪═════╪══════════╪═══╪══════════╪══════════╪══════╪════════════╡\n",
       "│ 4       ┆ 1      ┆ 5   ┆ 2        ┆ … ┆ 187000   ┆ 252559   ┆ 1    ┆ 1494124371 │\n",
       "│ 4       ┆ 1      ┆ 5   ┆ 2        ┆ … ┆ 116625   ┆ 159335   ┆ 1    ┆ 1494129933 │\n",
       "│ 4       ┆ 1      ┆ 5   ┆ 2        ┆ … ┆ 75325    ┆ 195718   ┆ 1    ┆ 1494129933 │\n",
       "│ 4       ┆ 1      ┆ 5   ┆ 2        ┆ … ┆ 116649   ┆ 51610    ┆ 1    ┆ 1494136895 │\n",
       "│ 7       ┆ 1      ┆ 2   ┆ 3        ┆ … ┆ 148537   ┆ 71832    ┆ 1    ┆ 1494598158 │\n",
       "│ …       ┆ …      ┆ …   ┆ …        ┆ … ┆ …        ┆ …        ┆ …    ┆ …          │\n",
       "│ 1035186 ┆ 2      ┆ 3   ┆ 3        ┆ … ┆ null     ┆ null     ┆ 0    ┆ 1493549440 │\n",
       "│ 1035186 ┆ 2      ┆ 3   ┆ 3        ┆ … ┆ null     ┆ null     ┆ 0    ┆ 1493549405 │\n",
       "│ 1035186 ┆ 2      ┆ 3   ┆ 3        ┆ … ┆ null     ┆ null     ┆ 0    ┆ 1493549595 │\n",
       "│ 1035186 ┆ 2      ┆ 3   ┆ 3        ┆ … ┆ null     ┆ null     ┆ 0    ┆ 1493549516 │\n",
       "│ 753243  ┆ 2      ┆ 2   ┆ 3        ┆ … ┆ null     ┆ null     ┆ 0    ┆ 1493514334 │\n",
       "└─────────┴────────┴─────┴──────────┴───┴──────────┴──────────┴──────┴────────────┘"
      ]
     },
     "execution_count": 13,
     "metadata": {},
     "output_type": "execute_result"
    }
   ],
   "source": [
    "training_data"
   ]
  },
  {
   "cell_type": "code",
   "execution_count": 14,
   "metadata": {},
   "outputs": [
    {
     "data": {
      "text/html": [
       "<div><style>\n",
       ".dataframe > thead > tr,\n",
       ".dataframe > tbody > tr {\n",
       "  text-align: right;\n",
       "  white-space: pre-wrap;\n",
       "}\n",
       "</style>\n",
       "<small>shape: (236_650, 12)</small><table border=\"1\" class=\"dataframe\"><thead><tr><th>user</th><th>gender</th><th>age</th><th>shopping</th><th>occupation</th><th>adgroup</th><th>cate</th><th>brand</th><th>customer</th><th>campaign</th><th>btag</th><th>timestamp</th></tr><tr><td>u32</td><td>u8</td><td>u8</td><td>u8</td><td>u8</td><td>u32</td><td>u16</td><td>u32</td><td>u32</td><td>u32</td><td>u8</td><td>u32</td></tr></thead><tbody><tr><td>4</td><td>1</td><td>5</td><td>2</td><td>0</td><td>207109</td><td>562</td><td>200377</td><td>136711</td><td>244872</td><td>1</td><td>1494653875</td></tr><tr><td>7</td><td>1</td><td>2</td><td>3</td><td>0</td><td>30074</td><td>7266</td><td>296265</td><td>148537</td><td>71832</td><td>1</td><td>1494674441</td></tr><tr><td>14</td><td>2</td><td>2</td><td>3</td><td>1</td><td>711096</td><td>6423</td><td>452022</td><td>34668</td><td>157119</td><td>1</td><td>1494512118</td></tr><tr><td>24</td><td>2</td><td>1</td><td>2</td><td>0</td><td>656548</td><td>6261</td><td>null</td><td>60230</td><td>3487</td><td>1</td><td>1494495452</td></tr><tr><td>26</td><td>2</td><td>4</td><td>2</td><td>0</td><td>645506</td><td>6261</td><td>269352</td><td>54588</td><td>404023</td><td>1</td><td>1494426628</td></tr><tr><td>&hellip;</td><td>&hellip;</td><td>&hellip;</td><td>&hellip;</td><td>&hellip;</td><td>&hellip;</td><td>&hellip;</td><td>&hellip;</td><td>&hellip;</td><td>&hellip;</td><td>&hellip;</td><td>&hellip;</td></tr><tr><td>1141718</td><td>1</td><td>5</td><td>3</td><td>0</td><td>623707</td><td>6261</td><td>null</td><td>1734</td><td>82320</td><td>1</td><td>1494392748</td></tr><tr><td>1141723</td><td>2</td><td>1</td><td>3</td><td>0</td><td>701127</td><td>6300</td><td>82527</td><td>28529</td><td>266843</td><td>1</td><td>1494251900</td></tr><tr><td>1141725</td><td>2</td><td>2</td><td>3</td><td>0</td><td>183541</td><td>6255</td><td>231313</td><td>14833</td><td>191535</td><td>1</td><td>1494496336</td></tr><tr><td>1141726</td><td>2</td><td>5</td><td>3</td><td>0</td><td>336202</td><td>6342</td><td>90847</td><td>199245</td><td>315038</td><td>1</td><td>1494473055</td></tr><tr><td>1141729</td><td>2</td><td>1</td><td>3</td><td>0</td><td>636325</td><td>1665</td><td>null</td><td>23680</td><td>147516</td><td>1</td><td>1494238988</td></tr></tbody></table></div>"
      ],
      "text/plain": [
       "shape: (236_650, 12)\n",
       "┌─────────┬────────┬─────┬──────────┬───┬──────────┬──────────┬──────┬────────────┐\n",
       "│ user    ┆ gender ┆ age ┆ shopping ┆ … ┆ customer ┆ campaign ┆ btag ┆ timestamp  │\n",
       "│ ---     ┆ ---    ┆ --- ┆ ---      ┆   ┆ ---      ┆ ---      ┆ ---  ┆ ---        │\n",
       "│ u32     ┆ u8     ┆ u8  ┆ u8       ┆   ┆ u32      ┆ u32      ┆ u8   ┆ u32        │\n",
       "╞═════════╪════════╪═════╪══════════╪═══╪══════════╪══════════╪══════╪════════════╡\n",
       "│ 4       ┆ 1      ┆ 5   ┆ 2        ┆ … ┆ 136711   ┆ 244872   ┆ 1    ┆ 1494653875 │\n",
       "│ 7       ┆ 1      ┆ 2   ┆ 3        ┆ … ┆ 148537   ┆ 71832    ┆ 1    ┆ 1494674441 │\n",
       "│ 14      ┆ 2      ┆ 2   ┆ 3        ┆ … ┆ 34668    ┆ 157119   ┆ 1    ┆ 1494512118 │\n",
       "│ 24      ┆ 2      ┆ 1   ┆ 2        ┆ … ┆ 60230    ┆ 3487     ┆ 1    ┆ 1494495452 │\n",
       "│ 26      ┆ 2      ┆ 4   ┆ 2        ┆ … ┆ 54588    ┆ 404023   ┆ 1    ┆ 1494426628 │\n",
       "│ …       ┆ …      ┆ …   ┆ …        ┆ … ┆ …        ┆ …        ┆ …    ┆ …          │\n",
       "│ 1141718 ┆ 1      ┆ 5   ┆ 3        ┆ … ┆ 1734     ┆ 82320    ┆ 1    ┆ 1494392748 │\n",
       "│ 1141723 ┆ 2      ┆ 1   ┆ 3        ┆ … ┆ 28529    ┆ 266843   ┆ 1    ┆ 1494251900 │\n",
       "│ 1141725 ┆ 2      ┆ 2   ┆ 3        ┆ … ┆ 14833    ┆ 191535   ┆ 1    ┆ 1494496336 │\n",
       "│ 1141726 ┆ 2      ┆ 5   ┆ 3        ┆ … ┆ 199245   ┆ 315038   ┆ 1    ┆ 1494473055 │\n",
       "│ 1141729 ┆ 2      ┆ 1   ┆ 3        ┆ … ┆ 23680    ┆ 147516   ┆ 1    ┆ 1494238988 │\n",
       "└─────────┴────────┴─────┴──────────┴───┴──────────┴──────────┴──────┴────────────┘"
      ]
     },
     "execution_count": 14,
     "metadata": {},
     "output_type": "execute_result"
    }
   ],
   "source": [
    "validation_data"
   ]
  },
  {
   "cell_type": "code",
   "execution_count": null,
   "metadata": {},
   "outputs": [],
   "source": [
    "training_data.write_parquet(\n",
    "    os.path.join(data_dir, f\"train_min_{min_num_training+num_validation}_click.parquet\")\n",
    ")\n",
    "validation_data.write_parquet(\n",
    "    os.path.join(data_dir, f\"test_min_{min_num_training+num_validation}_click.parquet\")\n",
    ")"
   ]
  }
 ],
 "metadata": {
  "kernelspec": {
   "display_name": "mlip",
   "language": "python",
   "name": "python3"
  },
  "language_info": {
   "codemirror_mode": {
    "name": "ipython",
    "version": 3
   },
   "file_extension": ".py",
   "mimetype": "text/x-python",
   "name": "python",
   "nbconvert_exporter": "python",
   "pygments_lexer": "ipython3",
   "version": "3.11.10"
  }
 },
 "nbformat": 4,
 "nbformat_minor": 2
}

{
 "cells": [
  {
   "cell_type": "code",
   "execution_count": null,
   "metadata": {},
   "outputs": [],
   "source": [
    "import os\n",
    "import sys\n",
    "import polars as pl\n",
    "\n",
    "sys.path.append(\"../\")\n",
    "from encoder.polars_ordinal_encoder import PolarsOrdinalEncoder"
   ]
  },
  {
   "cell_type": "code",
   "execution_count": null,
   "metadata": {},
   "outputs": [],
   "source": [
    "data_dir = os.path.join(\"..\", \"data\")\n",
    "user_feats = [\"user\", \"gender\", \"age\", \"shopping\", \"occupation\"]\n",
    "ad_feats = [\"adgroup\", \"cate\", \"brand\", \"campaign\", \"customer\"]"
   ]
  },
  {
   "cell_type": "code",
   "execution_count": null,
   "metadata": {},
   "outputs": [],
   "source": [
    "user_profile = pl.read_parquet(os.path.join(data_dir, \"user_profile.parquet\"))\n",
    "ad_feature = pl.read_parquet(os.path.join(data_dir, \"ad_feature.parquet\"))\n",
    "train_data = pl.read_parquet(os.path.join(data_dir, \"train_raw.parquet\"))\n",
    "test_data = pl.read_parquet(os.path.join(data_dir, \"test_raw.parquet\"))"
   ]
  },
  {
   "cell_type": "code",
   "execution_count": null,
   "metadata": {},
   "outputs": [],
   "source": [
    "user_encoder = PolarsOrdinalEncoder(fit_data = user_profile)\n",
    "ad_encoder = PolarsOrdinalEncoder(fit_data = ad_feature)"
   ]
  },
  {
   "cell_type": "code",
   "execution_count": null,
   "metadata": {},
   "outputs": [],
   "source": [
    "train_data: pl.DataFrame = pl.concat([\n",
    "    user_encoder.transform(train_data.select(user_feats)), \n",
    "    ad_encoder.transform(train_data.select(ad_feats)), \n",
    "    train_data.select(\n",
    "        pl.col(\"btag\", \"timestamp\", \"timediff\").cast(pl.Int32),\n",
    "        is_test = pl.lit(False, pl.Boolean),\n",
    "    )\n",
    "], how=\"horizontal\")\n",
    "train_data"
   ]
  },
  {
   "cell_type": "code",
   "execution_count": null,
   "metadata": {},
   "outputs": [],
   "source": [
    "test_data: pl.DataFrame = pl.concat([\n",
    "    user_encoder.transform(test_data.select(user_feats)), \n",
    "    ad_encoder.transform(test_data.select(ad_feats)), \n",
    "    test_data.select(\n",
    "        pl.col(\"btag\", \"timestamp\", \"timediff\").cast(pl.Int32),\n",
    "        is_test = pl.lit(True, pl.Boolean)\n",
    "    )\n",
    "], how=\"horizontal\")\n",
    "test_data"
   ]
  },
  {
   "cell_type": "code",
   "execution_count": null,
   "metadata": {},
   "outputs": [],
   "source": [
    "train_data.write_parquet(os.path.join(data_dir, \"train.parquet\"))\n",
    "test_data.write_parquet(os.path.join(data_dir, \"test.parquet\"))"
   ]
  }
 ],
 "metadata": {
  "kernelspec": {
   "display_name": "pgm",
   "language": "python",
   "name": "python3"
  },
  "language_info": {
   "codemirror_mode": {
    "name": "ipython",
    "version": 3
   },
   "file_extension": ".py",
   "mimetype": "text/x-python",
   "name": "python",
   "nbconvert_exporter": "python",
   "pygments_lexer": "ipython3",
   "version": "3.11.8"
  }
 },
 "nbformat": 4,
 "nbformat_minor": 2
}

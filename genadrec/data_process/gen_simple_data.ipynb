{
 "cells": [
  {
   "cell_type": "code",
   "execution_count": null,
   "metadata": {},
   "outputs": [],
   "source": [
    "import os\n",
    "import polars as pl\n",
    "import numpy as np"
   ]
  },
  {
   "cell_type": "code",
   "execution_count": null,
   "metadata": {},
   "outputs": [],
   "source": [
    "data_dir = os.path.join(\"..\", \"data\")\n",
    "train_parquet = os.path.join(data_dir, \"train.parquet\")\n",
    "test_parquet = os.path.join(data_dir, \"test.parquet\")\n",
    "min_timediff_unique = 30        # The minimum number of seconds between identical interactions (user, adgroup, btag), or (user, cate, brand, btag), before they are considered duplicates\n",
    "min_training_interactions = 1   # The minimum number of non-ad-click, browse, ad-click, favorite, add-to-cart, or purchase interactions required in a training sequence\n",
    "augmented = True                # Whether to include behavior log interaction data or not"
   ]
  },
  {
   "cell_type": "code",
   "execution_count": null,
   "metadata": {},
   "outputs": [],
   "source": [
    "dataset_params = f\"timediff{min_timediff_unique}_mintrain{min_training_interactions}\" + (\"_aug\" if augmented else \"\")\n",
    "user_feats = [\"user\", \"gender\", \"age\", \"shopping\", \"occupation\"]\n",
    "ad_feats = [\"adgroup\", \"cate\", \"brand\", \"campaign\", \"customer\"]"
   ]
  },
  {
   "cell_type": "code",
   "execution_count": null,
   "metadata": {},
   "outputs": [],
   "source": [
    "training_data = (pl.scan_parquet(train_parquet)\n",
    "    .filter((pl.col(\"btag\") != -1) & \n",
    "            (pl.col(\"timediff\").is_null() | (pl.col(\"timediff\") >= min_timediff_unique)) &\n",
    "            ((pl.col(\"btag\") == 1) if not augmented else True))\n",
    "    .filter(pl.len().over(\"user\") >= min_training_interactions)\n",
    "    .collect()\n",
    ")\n",
    "training_data"
   ]
  },
  {
   "cell_type": "code",
   "execution_count": null,
   "metadata": {},
   "outputs": [],
   "source": [
    "validation_data = (pl.scan_parquet(test_parquet)\n",
    "    .filter(pl.col(\"user\").is_in(training_data.select(\"user\").unique()))\n",
    "    .collect()\n",
    ")\n",
    "validation_data"
   ]
  },
  {
   "cell_type": "code",
   "execution_count": null,
   "metadata": {},
   "outputs": [],
   "source": [
    "np.savez_compressed(\n",
    "    file = os.path.join(data_dir, f\"train_data_{dataset_params}\"),\n",
    "    user_data = training_data.select(user_feats).to_numpy(),\n",
    "    ads_data = training_data.select(ad_feats).to_numpy(),\n",
    "    interaction_data = training_data[\"btag\"].to_numpy(),\n",
    "    timestamps = training_data[\"timestamp\"].to_numpy(),\n",
    ")"
   ]
  },
  {
   "cell_type": "code",
   "execution_count": null,
   "metadata": {},
   "outputs": [],
   "source": [
    "np.savez_compressed(\n",
    "    file = os.path.join(data_dir, f\"test_data_{dataset_params}\"),\n",
    "    user_data = validation_data.select(user_feats).to_numpy(),\n",
    "    ads_data = validation_data.select(ad_feats).to_numpy(),\n",
    "    interaction_data = validation_data[\"btag\"].to_numpy(),\n",
    "    timestamps = validation_data[\"timestamp\"].to_numpy(),\n",
    ")"
   ]
  }
 ],
 "metadata": {
  "kernelspec": {
   "display_name": "pgm",
   "language": "python",
   "name": "python3"
  },
  "language_info": {
   "codemirror_mode": {
    "name": "ipython",
    "version": 3
   },
   "file_extension": ".py",
   "mimetype": "text/x-python",
   "name": "python",
   "nbconvert_exporter": "python",
   "pygments_lexer": "ipython3",
   "version": "3.11.8"
  }
 },
 "nbformat": 4,
 "nbformat_minor": 2
}

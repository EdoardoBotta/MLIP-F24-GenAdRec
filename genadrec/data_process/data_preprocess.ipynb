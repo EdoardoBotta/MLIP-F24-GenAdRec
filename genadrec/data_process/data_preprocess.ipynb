{
 "cells": [
  {
   "cell_type": "code",
   "execution_count": null,
   "metadata": {},
   "outputs": [],
   "source": [
    "import os\n",
    "import polars as pl"
   ]
  },
  {
   "cell_type": "code",
   "execution_count": null,
   "metadata": {},
   "outputs": [],
   "source": [
    "data_dir = os.path.join(\"..\", \"raw_data\")\n",
    "min_num_training = 0\n",
    "num_validation = 1\n",
    "include_behavior_log = True\n",
    "include_ad_non_clks = True"
   ]
  },
  {
   "cell_type": "code",
   "execution_count": null,
   "metadata": {},
   "outputs": [],
   "source": [
    "user_feats = [\"user\", \"gender\", \"age\", \"shopping\", \"occupation\"]\n",
    "ad_feats = [\"adgroup\", \"cate\", \"brand\", \"campaign\", \"customer\"]\n",
    "pretraining_ad_feats = [\"cate\", \"brand\"]"
   ]
  },
  {
   "cell_type": "code",
   "execution_count": null,
   "metadata": {},
   "outputs": [],
   "source": [
    "raw_sample = (pl\n",
    "    .scan_parquet(os.path.join(data_dir, \"raw_sample.parquet\"))\n",
    "    .filter(pl.col(\"clk\") == True)\n",
    "    .filter(pl.len().over(\"user\") >= min_num_training + num_validation)\n",
    "    .unique([\"user\", \"adgroup\", \"timestamp\"])\n",
    "    .with_columns(timediff = pl.col(\"timestamp\").diff().over(\"user\", \"adgroup\", order_by=\"timestamp\"))\n",
    "    .join(\n",
    "        other=pl.scan_parquet(os.path.join(data_dir, \"ad_feature.parquet\")).select(ad_feats),\n",
    "        on=\"adgroup\", how=\"inner\",\n",
    "    )\n",
    "    .collect())\n",
    "raw_sample"
   ]
  },
  {
   "cell_type": "code",
   "execution_count": null,
   "metadata": {},
   "outputs": [],
   "source": [
    "training_data = (\n",
    "    raw_sample\n",
    "    .filter(pl.len().over(\"user\") > num_validation)\n",
    "    .sort(\"user\", \"timestamp\", nulls_last=True)\n",
    "    .group_by(\"user\", maintain_order=True)\n",
    "    .agg(pl.all().head(pl.len() - num_validation))\n",
    "    .explode(pl.all().exclude(\"user\"))\n",
    "    .select(\"user\", *ad_feats, pl.lit(1).alias(\"btag\").cast(pl.Int32), \"timestamp\", \"timediff\")\n",
    ")\n",
    "training_data"
   ]
  },
  {
   "cell_type": "code",
   "execution_count": null,
   "metadata": {},
   "outputs": [],
   "source": [
    "validation_data = (\n",
    "    raw_sample\n",
    "    .sort(\"user\", \"timestamp\", nulls_last=True)\n",
    "    .group_by(\"user\", maintain_order=True)\n",
    "    .agg(pl.all().tail(num_validation))\n",
    "    .explode(pl.all().exclude(\"user\"))\n",
    "    .select(\"user\", *ad_feats, pl.lit(1).alias(\"btag\").cast(pl.Int32), \"timestamp\", \"timediff\")\n",
    ")\n",
    "validation_data"
   ]
  },
  {
   "cell_type": "code",
   "execution_count": null,
   "metadata": {},
   "outputs": [],
   "source": [
    "del raw_sample"
   ]
  },
  {
   "cell_type": "code",
   "execution_count": null,
   "metadata": {},
   "outputs": [],
   "source": [
    "validation_data.join(training_data, on=[\"user\", \"adgroup\"], how=\"inner\") \\\n",
    "    .filter(pl.col(\"timestamp\") <= pl.col(\"timestamp_right\"))"
   ]
  },
  {
   "cell_type": "code",
   "execution_count": null,
   "metadata": {},
   "outputs": [],
   "source": [
    "first_validation_click = (\n",
    "    validation_data.select(\"user\", pl.col(\"timestamp\").alias(\"first_validation_ad_click_time\"))\n",
    "    .sort(\"user\", \"first_validation_ad_click_time\", nulls_last=True)\n",
    "    .group_by(\"user\", maintain_order=True).head(1)\n",
    ")\n",
    "first_validation_click"
   ]
  },
  {
   "cell_type": "code",
   "execution_count": null,
   "metadata": {},
   "outputs": [],
   "source": [
    "training_data = (training_data\n",
    "    .join(first_validation_click, on = \"user\")\n",
    "    .filter(pl.col(\"timestamp\") < pl.col(\"first_validation_ad_click_time\"))\n",
    "    .select(pl.all().exclude(\"first_validation_ad_click_time\"))\n",
    ")\n",
    "training_data"
   ]
  },
  {
   "cell_type": "code",
   "execution_count": null,
   "metadata": {},
   "outputs": [],
   "source": [
    "if include_behavior_log and (\"cate\" in ad_feats or \"brand\" in ad_feats):\n",
    "    training_data = pl.concat([training_data, pl\n",
    "        .scan_parquet(os.path.join(data_dir, \"behavior_log.parquet\"))\n",
    "        .filter(pl.col(\"user\").is_in(first_validation_click.select(\"user\").unique())).collect()\n",
    "        .join(first_validation_click, on=\"user\", how=\"inner\")\n",
    "        .filter(pl.col(\"timestamp\") < pl.col(\"first_validation_ad_click_time\"))\n",
    "        .unique()\n",
    "        .with_columns(timediff = pl.col(\"timestamp\").diff().over(\"user\", \"cate\", \"brand\", \"btag\", order_by=\"timestamp\"))\n",
    "        .select(\"user\", *pretraining_ad_feats, pl.col(\"btag\").cast(pl.Int32), \"timestamp\", \"timediff\")\n",
    "    ], how=\"diagonal\")\n",
    "training_data"
   ]
  },
  {
   "cell_type": "code",
   "execution_count": null,
   "metadata": {},
   "outputs": [],
   "source": [
    "valid_users = training_data.select(\"user\").unique()\n",
    "validation_data = validation_data.filter(pl.col(\"user\").is_in(valid_users))\n",
    "validation_data"
   ]
  },
  {
   "cell_type": "code",
   "execution_count": null,
   "metadata": {},
   "outputs": [],
   "source": [
    "if include_ad_non_clks:\n",
    "    training_data = pl.concat([training_data, pl\n",
    "        .scan_parquet(os.path.join(data_dir, \"raw_sample.parquet\"))\n",
    "        .filter((pl.col(\"clk\") == False) & (pl.col(\"user\").is_in(valid_users))).collect()\n",
    "        .join(first_validation_click, on=\"user\", how=\"inner\")\n",
    "        .filter(pl.col(\"timestamp\") < pl.col(\"first_validation_ad_click_time\"))\n",
    "        .unique([\"user\", \"adgroup\", \"timestamp\"])\n",
    "        .with_columns(timediff = pl.col(\"timestamp\").diff().over(\"user\", \"adgroup\", order_by=\"timestamp\"))\n",
    "        .join(\n",
    "            other=pl.read_parquet(os.path.join(data_dir, \"ad_feature.parquet\")).select(ad_feats),\n",
    "            on=\"adgroup\", how=\"inner\",\n",
    "        )\n",
    "        .select(\"user\", *ad_feats, pl.lit(-1).alias(\"btag\").cast(pl.Int32), \"timestamp\", \"timediff\")\n",
    "    ], how=\"vertical\")\n",
    "training_data"
   ]
  },
  {
   "cell_type": "code",
   "execution_count": null,
   "metadata": {},
   "outputs": [],
   "source": [
    "user_profile = (validation_data\n",
    "    .select(\"user\")\n",
    "    .unique()\n",
    "    .join(\n",
    "        pl.read_parquet(os.path.join(data_dir, \"user_profile.parquet\")),\n",
    "        on = \"user\", how = \"left\"\n",
    "    )\n",
    "    .select(user_feats)\n",
    "    .unique()\n",
    ")\n",
    "ad_feature: pl.DataFrame = pl.concat([\n",
    "    training_data.select(ad_feats).unique(),\n",
    "    validation_data.select(ad_feats).unique(),\n",
    "], how=\"vertical\").unique()"
   ]
  },
  {
   "cell_type": "code",
   "execution_count": null,
   "metadata": {},
   "outputs": [],
   "source": [
    "training_data = (training_data\n",
    "    .join(user_profile, on = \"user\", how = \"left\")\n",
    "    .select(*user_feats, *ad_feats, \"btag\", \"timestamp\", \"timediff\")\n",
    ")\n",
    "validation_data = (validation_data\n",
    "    .join(user_profile, on = \"user\", how = \"left\")\n",
    "    .select(*user_feats, *ad_feats, \"btag\", \"timestamp\", \"timediff\")\n",
    ")"
   ]
  },
  {
   "cell_type": "code",
   "execution_count": null,
   "metadata": {},
   "outputs": [],
   "source": [
    "outdir = os.path.join(\"..\", \"data\")\n",
    "user_profile.write_parquet(os.path.join(outdir, \"user_profile.parquet\"))\n",
    "ad_feature.write_parquet(os.path.join(outdir, \"ad_feature.parquet\"))\n",
    "training_data.write_parquet(os.path.join(outdir, \"train_raw.parquet\"))\n",
    "validation_data.write_parquet(os.path.join(outdir, \"test_raw.parquet\"))"
   ]
  }
 ],
 "metadata": {
  "kernelspec": {
   "display_name": "pgm",
   "language": "python",
   "name": "python3"
  },
  "language_info": {
   "codemirror_mode": {
    "name": "ipython",
    "version": 3
   },
   "file_extension": ".py",
   "mimetype": "text/x-python",
   "name": "python",
   "nbconvert_exporter": "python",
   "pygments_lexer": "ipython3",
   "version": "3.11.8"
  }
 },
 "nbformat": 4,
 "nbformat_minor": 2
}
